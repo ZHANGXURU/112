{
 "cells": [
  {
   "cell_type": "markdown",
   "metadata": {},
   "source": [
    "# Exam\n",
    "\n",
    "In this exam, we will work with the \"frequently requested health data” from the OECD.\n",
    "Your task is to compute a simple “efficiency score” and make three plots. \n",
    "\n",
    "\n",
    "You will earn a higher grade if you provide nicer graphs.  \n"
   ]
  },
  {
   "cell_type": "markdown",
   "metadata": {},
   "source": [
    "name xuru zhang u676218"
   ]
  },
  {
   "cell_type": "markdown",
   "metadata": {},
   "source": [
    "Now you need to call the libaries\n",
    "\n",
    "* ggplot2\n",
    "* dplyr\n",
    "\n"
   ]
  },
  {
   "cell_type": "code",
   "execution_count": 1,
   "metadata": {
    "collapsed": false
   },
   "outputs": [
    {
     "name": "stderr",
     "output_type": "stream",
     "text": [
      "\n",
      "Attaching package: 'dplyr'\n",
      "\n",
      "The following objects are masked from 'package:stats':\n",
      "\n",
      "    filter, lag\n",
      "\n",
      "The following objects are masked from 'package:base':\n",
      "\n",
      "    intersect, setdiff, setequal, union\n",
      "\n"
     ]
    }
   ],
   "source": [
    "library(ggplot2)\n",
    "library(dplyr)"
   ]
  },
  {
   "cell_type": "markdown",
   "metadata": {},
   "source": [
    "Now you have to read the de data that we have cleaned during tutorial 3. The csv file is called oecddata.csv"
   ]
  },
  {
   "cell_type": "code",
   "execution_count": 3,
   "metadata": {
    "collapsed": true
   },
   "outputs": [],
   "source": [
    "oecd <- read.csv2(\"oecddata.csv\")"
   ]
  },
  {
   "cell_type": "markdown",
   "metadata": {},
   "source": [
    "To see how the data look like, use the command:\n",
    "\n",
    "head(oecd)\n",
    "\n",
    "With the command\n",
    "\n",
    "oecd\n",
    "\n",
    "\n",
    "You can see the dataset in total."
   ]
  },
  {
   "cell_type": "code",
   "execution_count": 4,
   "metadata": {
    "collapsed": false
   },
   "outputs": [
    {
     "data": {
      "text/html": [
       "<table>\n",
       "<thead><tr><th scope=col>X</th><th scope=col>Country</th><th scope=col>Year</th><th scope=col>Cost</th><th scope=col>LE</th></tr></thead>\n",
       "<tbody>\n",
       "\t<tr><td>1        </td><td>Australia</td><td>2005     </td><td>2842.132 </td><td>80.9     </td></tr>\n",
       "\t<tr><td>2        </td><td>Australia</td><td>2006     </td><td>3023.098 </td><td>81.1     </td></tr>\n",
       "\t<tr><td>3        </td><td>Australia</td><td>2007     </td><td>3196.226 </td><td>81.4     </td></tr>\n",
       "\t<tr><td>4        </td><td>Australia</td><td>2008     </td><td>3310.171 </td><td>81.5     </td></tr>\n",
       "\t<tr><td>5        </td><td>Australia</td><td>2009     </td><td>3564.405 </td><td>81.6     </td></tr>\n",
       "\t<tr><td>6        </td><td>Australia</td><td>2010     </td><td>3607.341 </td><td>81.8     </td></tr>\n",
       "</tbody>\n",
       "</table>\n"
      ],
      "text/latex": [
       "\\begin{tabular}{r|lllll}\n",
       " X & Country & Year & Cost & LE\\\\\n",
       "\\hline\n",
       "\t 1         & Australia & 2005      & 2842.132  & 80.9     \\\\\n",
       "\t 2         & Australia & 2006      & 3023.098  & 81.1     \\\\\n",
       "\t 3         & Australia & 2007      & 3196.226  & 81.4     \\\\\n",
       "\t 4         & Australia & 2008      & 3310.171  & 81.5     \\\\\n",
       "\t 5         & Australia & 2009      & 3564.405  & 81.6     \\\\\n",
       "\t 6         & Australia & 2010      & 3607.341  & 81.8     \\\\\n",
       "\\end{tabular}\n"
      ],
      "text/markdown": [
       "\n",
       "X | Country | Year | Cost | LE | \n",
       "|---|---|---|---|---|---|\n",
       "| 1         | Australia | 2005      | 2842.132  | 80.9      | \n",
       "| 2         | Australia | 2006      | 3023.098  | 81.1      | \n",
       "| 3         | Australia | 2007      | 3196.226  | 81.4      | \n",
       "| 4         | Australia | 2008      | 3310.171  | 81.5      | \n",
       "| 5         | Australia | 2009      | 3564.405  | 81.6      | \n",
       "| 6         | Australia | 2010      | 3607.341  | 81.8      | \n",
       "\n",
       "\n"
      ],
      "text/plain": [
       "  X Country   Year Cost     LE  \n",
       "1 1 Australia 2005 2842.132 80.9\n",
       "2 2 Australia 2006 3023.098 81.1\n",
       "3 3 Australia 2007 3196.226 81.4\n",
       "4 4 Australia 2008 3310.171 81.5\n",
       "5 5 Australia 2009 3564.405 81.6\n",
       "6 6 Australia 2010 3607.341 81.8"
      ]
     },
     "metadata": {},
     "output_type": "display_data"
    }
   ],
   "source": [
    "head(oecd)"
   ]
  },
  {
   "cell_type": "markdown",
   "metadata": {},
   "source": [
    "## Graphs"
   ]
  },
  {
   "cell_type": "markdown",
   "metadata": {},
   "source": [
    "To make the graphs we need to make selections of the data. Please use \"dplyr\" (commands \"select\" and \"filter\") and the \"pipe\". The first assignment is to make a scatterplot using \"ggplot\". The graph contains data for all countries for the year 2014. Therefore make a dataframe with dplyr first, called \"graph1\" with the required data.\n",
    "Then, make a scatterplot with \"Cost\" on the x-axis and \"LE\" on the y-axis. You have to add a regression line with a shaded area for the confidence interval."
   ]
  },
  {
   "cell_type": "code",
   "execution_count": 5,
   "metadata": {
    "collapsed": false
   },
   "outputs": [
    {
     "data": {
      "text/html": [
       "<table>\n",
       "<thead><tr><th scope=col>X</th><th scope=col>Country</th><th scope=col>Year</th><th scope=col>Cost</th><th scope=col>LE</th></tr></thead>\n",
       "<tbody>\n",
       "\t<tr><td> 10            </td><td>Australia      </td><td>2014           </td><td>4206.8516      </td><td>82.4           </td></tr>\n",
       "\t<tr><td> 21            </td><td>Austria        </td><td>2014           </td><td>4895.9992      </td><td>81.6           </td></tr>\n",
       "\t<tr><td> 32            </td><td>Belgium        </td><td>2014           </td><td>4522.0450      </td><td>81.4           </td></tr>\n",
       "\t<tr><td> 43            </td><td>Canada         </td><td>2014           </td><td>4491.7648      </td><td>  NA           </td></tr>\n",
       "\t<tr><td> 54            </td><td>Chile          </td><td>2014           </td><td>1688.5233      </td><td>79.0           </td></tr>\n",
       "\t<tr><td> 65            </td><td>Czech Republic </td><td>2014           </td><td>2386.3385      </td><td>78.9           </td></tr>\n",
       "\t<tr><td> 76            </td><td>Denmark        </td><td>2014           </td><td>4857.0285      </td><td>80.8           </td></tr>\n",
       "\t<tr><td> 87            </td><td>Estonia        </td><td>2014           </td><td>1724.5100      </td><td>77.2           </td></tr>\n",
       "\t<tr><td> 98            </td><td>Finland        </td><td>2014           </td><td>3870.4000      </td><td>81.3           </td></tr>\n",
       "\t<tr><td>109            </td><td>France         </td><td>2014           </td><td>4366.9864      </td><td>82.8           </td></tr>\n",
       "\t<tr><td>120            </td><td>Germany        </td><td>2014           </td><td>5119.2146      </td><td>81.2           </td></tr>\n",
       "\t<tr><td>131            </td><td>Greece         </td><td>2014           </td><td>2220.1065      </td><td>81.5           </td></tr>\n",
       "\t<tr><td>142            </td><td>Hungary        </td><td>2014           </td><td>1796.6034      </td><td>75.9           </td></tr>\n",
       "\t<tr><td>153            </td><td>Iceland        </td><td>2014           </td><td>3896.9251      </td><td>82.9           </td></tr>\n",
       "\t<tr><td>164            </td><td>Ireland        </td><td>2014           </td><td>5001.3220      </td><td>81.4           </td></tr>\n",
       "\t<tr><td>175            </td><td>Israel         </td><td>2014           </td><td>2547.4010      </td><td>82.2           </td></tr>\n",
       "\t<tr><td>186            </td><td>Italy          </td><td>2014           </td><td>3206.8286      </td><td>83.2           </td></tr>\n",
       "\t<tr><td>197            </td><td>Japan          </td><td>2014           </td><td>4152.3727      </td><td>83.7           </td></tr>\n",
       "\t<tr><td>208            </td><td>Korea          </td><td>2014           </td><td>2361.4400      </td><td>82.2           </td></tr>\n",
       "\t<tr><td>219            </td><td>Latvia         </td><td>2014           </td><td>1295.0128      </td><td>74.3           </td></tr>\n",
       "\t<tr><td>230            </td><td>Luxembourg     </td><td>2014           </td><td>6682.2370      </td><td>82.3           </td></tr>\n",
       "\t<tr><td>241            </td><td>Mexico         </td><td>2014           </td><td>1035.3389      </td><td>74.8           </td></tr>\n",
       "\t<tr><td>252            </td><td>Netherlands    </td><td>2014           </td><td>5276.6003      </td><td>81.8           </td></tr>\n",
       "\t<tr><td>263            </td><td>New Zealand    </td><td>2014           </td><td>3537.2568      </td><td>81.6           </td></tr>\n",
       "\t<tr><td>274            </td><td>Norway         </td><td>2014           </td><td>6080.9980      </td><td>82.2           </td></tr>\n",
       "\t<tr><td>285            </td><td>Poland         </td><td>2014           </td><td>1624.8655      </td><td>77.7           </td></tr>\n",
       "\t<tr><td>296            </td><td>Portugal       </td><td>2014           </td><td>2583.8438      </td><td>81.2           </td></tr>\n",
       "\t<tr><td>307            </td><td>Slovak Republic</td><td>2014           </td><td>1970.5230      </td><td>76.9           </td></tr>\n",
       "\t<tr><td>318            </td><td>Slovenia       </td><td>2014           </td><td>2598.9066      </td><td>81.2           </td></tr>\n",
       "\t<tr><td>329            </td><td>Spain          </td><td>2014           </td><td>3053.0745      </td><td>83.3           </td></tr>\n",
       "\t<tr><td>340            </td><td>Sweden         </td><td>2014           </td><td>5065.1613      </td><td>82.3           </td></tr>\n",
       "\t<tr><td>351            </td><td>Switzerland    </td><td>2014           </td><td>6786.5657      </td><td>83.3           </td></tr>\n",
       "\t<tr><td>362            </td><td>Turkey         </td><td>2014           </td><td> 990.1908      </td><td>78.0           </td></tr>\n",
       "\t<tr><td>373            </td><td>United Kingdom </td><td>2014           </td><td>3971.3940      </td><td>81.4           </td></tr>\n",
       "\t<tr><td>384            </td><td>United States  </td><td>2014           </td><td>9024.2064      </td><td>78.8           </td></tr>\n",
       "</tbody>\n",
       "</table>\n"
      ],
      "text/latex": [
       "\\begin{tabular}{r|lllll}\n",
       " X & Country & Year & Cost & LE\\\\\n",
       "\\hline\n",
       "\t  10             & Australia       & 2014            & 4206.8516       & 82.4           \\\\\n",
       "\t  21             & Austria         & 2014            & 4895.9992       & 81.6           \\\\\n",
       "\t  32             & Belgium         & 2014            & 4522.0450       & 81.4           \\\\\n",
       "\t  43             & Canada          & 2014            & 4491.7648       &   NA           \\\\\n",
       "\t  54             & Chile           & 2014            & 1688.5233       & 79.0           \\\\\n",
       "\t  65             & Czech Republic  & 2014            & 2386.3385       & 78.9           \\\\\n",
       "\t  76             & Denmark         & 2014            & 4857.0285       & 80.8           \\\\\n",
       "\t  87             & Estonia         & 2014            & 1724.5100       & 77.2           \\\\\n",
       "\t  98             & Finland         & 2014            & 3870.4000       & 81.3           \\\\\n",
       "\t 109             & France          & 2014            & 4366.9864       & 82.8           \\\\\n",
       "\t 120             & Germany         & 2014            & 5119.2146       & 81.2           \\\\\n",
       "\t 131             & Greece          & 2014            & 2220.1065       & 81.5           \\\\\n",
       "\t 142             & Hungary         & 2014            & 1796.6034       & 75.9           \\\\\n",
       "\t 153             & Iceland         & 2014            & 3896.9251       & 82.9           \\\\\n",
       "\t 164             & Ireland         & 2014            & 5001.3220       & 81.4           \\\\\n",
       "\t 175             & Israel          & 2014            & 2547.4010       & 82.2           \\\\\n",
       "\t 186             & Italy           & 2014            & 3206.8286       & 83.2           \\\\\n",
       "\t 197             & Japan           & 2014            & 4152.3727       & 83.7           \\\\\n",
       "\t 208             & Korea           & 2014            & 2361.4400       & 82.2           \\\\\n",
       "\t 219             & Latvia          & 2014            & 1295.0128       & 74.3           \\\\\n",
       "\t 230             & Luxembourg      & 2014            & 6682.2370       & 82.3           \\\\\n",
       "\t 241             & Mexico          & 2014            & 1035.3389       & 74.8           \\\\\n",
       "\t 252             & Netherlands     & 2014            & 5276.6003       & 81.8           \\\\\n",
       "\t 263             & New Zealand     & 2014            & 3537.2568       & 81.6           \\\\\n",
       "\t 274             & Norway          & 2014            & 6080.9980       & 82.2           \\\\\n",
       "\t 285             & Poland          & 2014            & 1624.8655       & 77.7           \\\\\n",
       "\t 296             & Portugal        & 2014            & 2583.8438       & 81.2           \\\\\n",
       "\t 307             & Slovak Republic & 2014            & 1970.5230       & 76.9           \\\\\n",
       "\t 318             & Slovenia        & 2014            & 2598.9066       & 81.2           \\\\\n",
       "\t 329             & Spain           & 2014            & 3053.0745       & 83.3           \\\\\n",
       "\t 340             & Sweden          & 2014            & 5065.1613       & 82.3           \\\\\n",
       "\t 351             & Switzerland     & 2014            & 6786.5657       & 83.3           \\\\\n",
       "\t 362             & Turkey          & 2014            &  990.1908       & 78.0           \\\\\n",
       "\t 373             & United Kingdom  & 2014            & 3971.3940       & 81.4           \\\\\n",
       "\t 384             & United States   & 2014            & 9024.2064       & 78.8           \\\\\n",
       "\\end{tabular}\n"
      ],
      "text/markdown": [
       "\n",
       "X | Country | Year | Cost | LE | \n",
       "|---|---|---|---|---|---|---|---|---|---|---|---|---|---|---|---|---|---|---|---|---|---|---|---|---|---|---|---|---|---|---|---|---|---|---|\n",
       "|  10             | Australia       | 2014            | 4206.8516       | 82.4            | \n",
       "|  21             | Austria         | 2014            | 4895.9992       | 81.6            | \n",
       "|  32             | Belgium         | 2014            | 4522.0450       | 81.4            | \n",
       "|  43             | Canada          | 2014            | 4491.7648       |   NA            | \n",
       "|  54             | Chile           | 2014            | 1688.5233       | 79.0            | \n",
       "|  65             | Czech Republic  | 2014            | 2386.3385       | 78.9            | \n",
       "|  76             | Denmark         | 2014            | 4857.0285       | 80.8            | \n",
       "|  87             | Estonia         | 2014            | 1724.5100       | 77.2            | \n",
       "|  98             | Finland         | 2014            | 3870.4000       | 81.3            | \n",
       "| 109             | France          | 2014            | 4366.9864       | 82.8            | \n",
       "| 120             | Germany         | 2014            | 5119.2146       | 81.2            | \n",
       "| 131             | Greece          | 2014            | 2220.1065       | 81.5            | \n",
       "| 142             | Hungary         | 2014            | 1796.6034       | 75.9            | \n",
       "| 153             | Iceland         | 2014            | 3896.9251       | 82.9            | \n",
       "| 164             | Ireland         | 2014            | 5001.3220       | 81.4            | \n",
       "| 175             | Israel          | 2014            | 2547.4010       | 82.2            | \n",
       "| 186             | Italy           | 2014            | 3206.8286       | 83.2            | \n",
       "| 197             | Japan           | 2014            | 4152.3727       | 83.7            | \n",
       "| 208             | Korea           | 2014            | 2361.4400       | 82.2            | \n",
       "| 219             | Latvia          | 2014            | 1295.0128       | 74.3            | \n",
       "| 230             | Luxembourg      | 2014            | 6682.2370       | 82.3            | \n",
       "| 241             | Mexico          | 2014            | 1035.3389       | 74.8            | \n",
       "| 252             | Netherlands     | 2014            | 5276.6003       | 81.8            | \n",
       "| 263             | New Zealand     | 2014            | 3537.2568       | 81.6            | \n",
       "| 274             | Norway          | 2014            | 6080.9980       | 82.2            | \n",
       "| 285             | Poland          | 2014            | 1624.8655       | 77.7            | \n",
       "| 296             | Portugal        | 2014            | 2583.8438       | 81.2            | \n",
       "| 307             | Slovak Republic | 2014            | 1970.5230       | 76.9            | \n",
       "| 318             | Slovenia        | 2014            | 2598.9066       | 81.2            | \n",
       "| 329             | Spain           | 2014            | 3053.0745       | 83.3            | \n",
       "| 340             | Sweden          | 2014            | 5065.1613       | 82.3            | \n",
       "| 351             | Switzerland     | 2014            | 6786.5657       | 83.3            | \n",
       "| 362             | Turkey          | 2014            |  990.1908       | 78.0            | \n",
       "| 373             | United Kingdom  | 2014            | 3971.3940       | 81.4            | \n",
       "| 384             | United States   | 2014            | 9024.2064       | 78.8            | \n",
       "\n",
       "\n"
      ],
      "text/plain": [
       "   X   Country         Year Cost      LE  \n",
       "1   10 Australia       2014 4206.8516 82.4\n",
       "2   21 Austria         2014 4895.9992 81.6\n",
       "3   32 Belgium         2014 4522.0450 81.4\n",
       "4   43 Canada          2014 4491.7648   NA\n",
       "5   54 Chile           2014 1688.5233 79.0\n",
       "6   65 Czech Republic  2014 2386.3385 78.9\n",
       "7   76 Denmark         2014 4857.0285 80.8\n",
       "8   87 Estonia         2014 1724.5100 77.2\n",
       "9   98 Finland         2014 3870.4000 81.3\n",
       "10 109 France          2014 4366.9864 82.8\n",
       "11 120 Germany         2014 5119.2146 81.2\n",
       "12 131 Greece          2014 2220.1065 81.5\n",
       "13 142 Hungary         2014 1796.6034 75.9\n",
       "14 153 Iceland         2014 3896.9251 82.9\n",
       "15 164 Ireland         2014 5001.3220 81.4\n",
       "16 175 Israel          2014 2547.4010 82.2\n",
       "17 186 Italy           2014 3206.8286 83.2\n",
       "18 197 Japan           2014 4152.3727 83.7\n",
       "19 208 Korea           2014 2361.4400 82.2\n",
       "20 219 Latvia          2014 1295.0128 74.3\n",
       "21 230 Luxembourg      2014 6682.2370 82.3\n",
       "22 241 Mexico          2014 1035.3389 74.8\n",
       "23 252 Netherlands     2014 5276.6003 81.8\n",
       "24 263 New Zealand     2014 3537.2568 81.6\n",
       "25 274 Norway          2014 6080.9980 82.2\n",
       "26 285 Poland          2014 1624.8655 77.7\n",
       "27 296 Portugal        2014 2583.8438 81.2\n",
       "28 307 Slovak Republic 2014 1970.5230 76.9\n",
       "29 318 Slovenia        2014 2598.9066 81.2\n",
       "30 329 Spain           2014 3053.0745 83.3\n",
       "31 340 Sweden          2014 5065.1613 82.3\n",
       "32 351 Switzerland     2014 6786.5657 83.3\n",
       "33 362 Turkey          2014  990.1908 78.0\n",
       "34 373 United Kingdom  2014 3971.3940 81.4\n",
       "35 384 United States   2014 9024.2064 78.8"
      ]
     },
     "metadata": {},
     "output_type": "display_data"
    }
   ],
   "source": [
    "graph1 <- oecd %>%\n",
    "select(X, Country, Year, Cost, LE) %>%\n",
    "filter(Year==2014)\n",
    "\n",
    "graph1"
   ]
  },
  {
   "cell_type": "code",
   "execution_count": 6,
   "metadata": {
    "collapsed": false
   },
   "outputs": [
    {
     "name": "stderr",
     "output_type": "stream",
     "text": [
      "Warning message:\n",
      "\"Removed 1 rows containing non-finite values (stat_smooth).\"Warning message:\n",
      "\"Removed 1 rows containing missing values (geom_point).\""
     ]
    },
    {
     "data": {},
     "metadata": {},
     "output_type": "display_data"
    },
    {
     "data": {
      "image/png": "[encoded data removed]",
      "text/plain": [
       "plot without title"
      ]
     },
     "metadata": {},
     "output_type": "display_data"
    }
   ],
   "source": [
    "ggplot(graph1, aes(x=Cost, y=LE)) + geom_point() + geom_smooth(method=lm) + xlab(\"Cost\") + ylab(\"LE\")"
   ]
  },
  {
   "cell_type": "markdown",
   "metadata": {},
   "source": [
    "The second assignment is to make a line graph. You will use the years 2005-2015 for 5 countries (you can choose your own countries). Make a new dataframe called graph2 with the required data. Then, make a line graph with \"Year\"  and \"Cost\" on the y-axis. There should be coloured lines per country and a legend attached. "
   ]
  },
  {
   "cell_type": "code",
   "execution_count": 7,
   "metadata": {
    "collapsed": false
   },
   "outputs": [
    {
     "data": {
      "text/html": [
       "<table>\n",
       "<thead><tr><th scope=col>Country</th><th scope=col>Year</th><th scope=col>Cost</th></tr></thead>\n",
       "<tbody>\n",
       "\t<tr><td>Luxembourg    </td><td>2005          </td><td>5090.3667     </td></tr>\n",
       "\t<tr><td>Luxembourg    </td><td>2006          </td><td>5512.8935     </td></tr>\n",
       "\t<tr><td>Luxembourg    </td><td>2007          </td><td>5500.6005     </td></tr>\n",
       "\t<tr><td>Luxembourg    </td><td>2008          </td><td>5938.8079     </td></tr>\n",
       "\t<tr><td>Luxembourg    </td><td>2009          </td><td>6355.5453     </td></tr>\n",
       "\t<tr><td>Luxembourg    </td><td>2010          </td><td>6401.8972     </td></tr>\n",
       "\t<tr><td>Luxembourg    </td><td>2011          </td><td>6040.5910     </td></tr>\n",
       "\t<tr><td>Luxembourg    </td><td>2012          </td><td>6423.1651     </td></tr>\n",
       "\t<tr><td>Luxembourg    </td><td>2013          </td><td>6629.0284     </td></tr>\n",
       "\t<tr><td>Luxembourg    </td><td>2014          </td><td>6682.2370     </td></tr>\n",
       "\t<tr><td>Luxembourg    </td><td>2015          </td><td>7764.8684     </td></tr>\n",
       "\t<tr><td>Poland        </td><td>2005          </td><td> 806.3174     </td></tr>\n",
       "\t<tr><td>Poland        </td><td>2006          </td><td> 882.2359     </td></tr>\n",
       "\t<tr><td>Poland        </td><td>2007          </td><td> 992.6475     </td></tr>\n",
       "\t<tr><td>Poland        </td><td>2008          </td><td>1158.0342     </td></tr>\n",
       "\t<tr><td>Poland        </td><td>2009          </td><td>1270.2808     </td></tr>\n",
       "\t<tr><td>Poland        </td><td>2010          </td><td>1340.7184     </td></tr>\n",
       "\t<tr><td>Poland        </td><td>2011          </td><td>1404.1005     </td></tr>\n",
       "\t<tr><td>Poland        </td><td>2012          </td><td>1463.7480     </td></tr>\n",
       "\t<tr><td>Poland        </td><td>2013          </td><td>1580.3710     </td></tr>\n",
       "\t<tr><td>Poland        </td><td>2014          </td><td>1624.8655     </td></tr>\n",
       "\t<tr><td>Poland        </td><td>2015          </td><td>1676.6774     </td></tr>\n",
       "\t<tr><td>Sweden        </td><td>2005          </td><td>2841.8221     </td></tr>\n",
       "\t<tr><td>Sweden        </td><td>2006          </td><td>3066.2039     </td></tr>\n",
       "\t<tr><td>Sweden        </td><td>2007          </td><td>3274.8490     </td></tr>\n",
       "\t<tr><td>Sweden        </td><td>2008          </td><td>3481.5901     </td></tr>\n",
       "\t<tr><td>Sweden        </td><td>2009          </td><td>3547.1337     </td></tr>\n",
       "\t<tr><td>Sweden        </td><td>2010          </td><td>3543.5822     </td></tr>\n",
       "\t<tr><td>Sweden        </td><td>2011          </td><td>4667.6964     </td></tr>\n",
       "\t<tr><td>Sweden        </td><td>2012          </td><td>4860.2524     </td></tr>\n",
       "\t<tr><td>Sweden        </td><td>2013          </td><td>5003.1323     </td></tr>\n",
       "\t<tr><td>Sweden        </td><td>2014          </td><td>5065.1613     </td></tr>\n",
       "\t<tr><td>Sweden        </td><td>2015          </td><td>5227.8349     </td></tr>\n",
       "\t<tr><td>United Kingdom</td><td>2005          </td><td>2568.4680     </td></tr>\n",
       "\t<tr><td>United Kingdom</td><td>2006          </td><td>2784.4890     </td></tr>\n",
       "\t<tr><td>United Kingdom</td><td>2007          </td><td>2862.4300     </td></tr>\n",
       "\t<tr><td>United Kingdom</td><td>2008          </td><td>2971.1540     </td></tr>\n",
       "\t<tr><td>United Kingdom</td><td>2009          </td><td>3150.2390     </td></tr>\n",
       "\t<tr><td>United Kingdom</td><td>2010          </td><td>3036.1200     </td></tr>\n",
       "\t<tr><td>United Kingdom</td><td>2011          </td><td>3087.3060     </td></tr>\n",
       "\t<tr><td>United Kingdom</td><td>2012          </td><td>3191.9360     </td></tr>\n",
       "\t<tr><td>United Kingdom</td><td>2013          </td><td>3881.0900     </td></tr>\n",
       "\t<tr><td>United Kingdom</td><td>2014          </td><td>3971.3940     </td></tr>\n",
       "\t<tr><td>United Kingdom</td><td>2015          </td><td>4003.0024     </td></tr>\n",
       "\t<tr><td>United States </td><td>2005          </td><td>6445.7053     </td></tr>\n",
       "\t<tr><td>United States </td><td>2006          </td><td>6809.4762     </td></tr>\n",
       "\t<tr><td>United States </td><td>2007          </td><td>7163.1718     </td></tr>\n",
       "\t<tr><td>United States </td><td>2008          </td><td>7414.0435     </td></tr>\n",
       "\t<tr><td>United States </td><td>2009          </td><td>7684.7611     </td></tr>\n",
       "\t<tr><td>United States </td><td>2010          </td><td>7929.3720     </td></tr>\n",
       "\t<tr><td>United States </td><td>2011          </td><td>8171.0784     </td></tr>\n",
       "\t<tr><td>United States </td><td>2012          </td><td>8422.9900     </td></tr>\n",
       "\t<tr><td>United States </td><td>2013          </td><td>8617.4287     </td></tr>\n",
       "\t<tr><td>United States </td><td>2014          </td><td>9024.2064     </td></tr>\n",
       "\t<tr><td>United States </td><td>2015          </td><td>9451.3423     </td></tr>\n",
       "</tbody>\n",
       "</table>\n"
      ],
      "text/latex": [
       "\\begin{tabular}{r|lll}\n",
       " Country & Year & Cost\\\\\n",
       "\\hline\n",
       "\t Luxembourg     & 2005           & 5090.3667     \\\\\n",
       "\t Luxembourg     & 2006           & 5512.8935     \\\\\n",
       "\t Luxembourg     & 2007           & 5500.6005     \\\\\n",
       "\t Luxembourg     & 2008           & 5938.8079     \\\\\n",
       "\t Luxembourg     & 2009           & 6355.5453     \\\\\n",
       "\t Luxembourg     & 2010           & 6401.8972     \\\\\n",
       "\t Luxembourg     & 2011           & 6040.5910     \\\\\n",
       "\t Luxembourg     & 2012           & 6423.1651     \\\\\n",
       "\t Luxembourg     & 2013           & 6629.0284     \\\\\n",
       "\t Luxembourg     & 2014           & 6682.2370     \\\\\n",
       "\t Luxembourg     & 2015           & 7764.8684     \\\\\n",
       "\t Poland         & 2005           &  806.3174     \\\\\n",
       "\t Poland         & 2006           &  882.2359     \\\\\n",
       "\t Poland         & 2007           &  992.6475     \\\\\n",
       "\t Poland         & 2008           & 1158.0342     \\\\\n",
       "\t Poland         & 2009           & 1270.2808     \\\\\n",
       "\t Poland         & 2010           & 1340.7184     \\\\\n",
       "\t Poland         & 2011           & 1404.1005     \\\\\n",
       "\t Poland         & 2012           & 1463.7480     \\\\\n",
       "\t Poland         & 2013           & 1580.3710     \\\\\n",
       "\t Poland         & 2014           & 1624.8655     \\\\\n",
       "\t Poland         & 2015           & 1676.6774     \\\\\n",
       "\t Sweden         & 2005           & 2841.8221     \\\\\n",
       "\t Sweden         & 2006           & 3066.2039     \\\\\n",
       "\t Sweden         & 2007           & 3274.8490     \\\\\n",
       "\t Sweden         & 2008           & 3481.5901     \\\\\n",
       "\t Sweden         & 2009           & 3547.1337     \\\\\n",
       "\t Sweden         & 2010           & 3543.5822     \\\\\n",
       "\t Sweden         & 2011           & 4667.6964     \\\\\n",
       "\t Sweden         & 2012           & 4860.2524     \\\\\n",
       "\t Sweden         & 2013           & 5003.1323     \\\\\n",
       "\t Sweden         & 2014           & 5065.1613     \\\\\n",
       "\t Sweden         & 2015           & 5227.8349     \\\\\n",
       "\t United Kingdom & 2005           & 2568.4680     \\\\\n",
       "\t United Kingdom & 2006           & 2784.4890     \\\\\n",
       "\t United Kingdom & 2007           & 2862.4300     \\\\\n",
       "\t United Kingdom & 2008           & 2971.1540     \\\\\n",
       "\t United Kingdom & 2009           & 3150.2390     \\\\\n",
       "\t United Kingdom & 2010           & 3036.1200     \\\\\n",
       "\t United Kingdom & 2011           & 3087.3060     \\\\\n",
       "\t United Kingdom & 2012           & 3191.9360     \\\\\n",
       "\t United Kingdom & 2013           & 3881.0900     \\\\\n",
       "\t United Kingdom & 2014           & 3971.3940     \\\\\n",
       "\t United Kingdom & 2015           & 4003.0024     \\\\\n",
       "\t United States  & 2005           & 6445.7053     \\\\\n",
       "\t United States  & 2006           & 6809.4762     \\\\\n",
       "\t United States  & 2007           & 7163.1718     \\\\\n",
       "\t United States  & 2008           & 7414.0435     \\\\\n",
       "\t United States  & 2009           & 7684.7611     \\\\\n",
       "\t United States  & 2010           & 7929.3720     \\\\\n",
       "\t United States  & 2011           & 8171.0784     \\\\\n",
       "\t United States  & 2012           & 8422.9900     \\\\\n",
       "\t United States  & 2013           & 8617.4287     \\\\\n",
       "\t United States  & 2014           & 9024.2064     \\\\\n",
       "\t United States  & 2015           & 9451.3423     \\\\\n",
       "\\end{tabular}\n"
      ],
      "text/markdown": [
       "\n",
       "Country | Year | Cost | \n",
       "|---|---|---|---|---|---|---|---|---|---|---|---|---|---|---|---|---|---|---|---|---|---|---|---|---|---|---|---|---|---|---|---|---|---|---|---|---|---|---|---|---|---|---|---|---|---|---|---|---|---|---|---|---|---|---|\n",
       "| Luxembourg     | 2005           | 5090.3667      | \n",
       "| Luxembourg     | 2006           | 5512.8935      | \n",
       "| Luxembourg     | 2007           | 5500.6005      | \n",
       "| Luxembourg     | 2008           | 5938.8079      | \n",
       "| Luxembourg     | 2009           | 6355.5453      | \n",
       "| Luxembourg     | 2010           | 6401.8972      | \n",
       "| Luxembourg     | 2011           | 6040.5910      | \n",
       "| Luxembourg     | 2012           | 6423.1651      | \n",
       "| Luxembourg     | 2013           | 6629.0284      | \n",
       "| Luxembourg     | 2014           | 6682.2370      | \n",
       "| Luxembourg     | 2015           | 7764.8684      | \n",
       "| Poland         | 2005           |  806.3174      | \n",
       "| Poland         | 2006           |  882.2359      | \n",
       "| Poland         | 2007           |  992.6475      | \n",
       "| Poland         | 2008           | 1158.0342      | \n",
       "| Poland         | 2009           | 1270.2808      | \n",
       "| Poland         | 2010           | 1340.7184      | \n",
       "| Poland         | 2011           | 1404.1005      | \n",
       "| Poland         | 2012           | 1463.7480      | \n",
       "| Poland         | 2013           | 1580.3710      | \n",
       "| Poland         | 2014           | 1624.8655      | \n",
       "| Poland         | 2015           | 1676.6774      | \n",
       "| Sweden         | 2005           | 2841.8221      | \n",
       "| Sweden         | 2006           | 3066.2039      | \n",
       "| Sweden         | 2007           | 3274.8490      | \n",
       "| Sweden         | 2008           | 3481.5901      | \n",
       "| Sweden         | 2009           | 3547.1337      | \n",
       "| Sweden         | 2010           | 3543.5822      | \n",
       "| Sweden         | 2011           | 4667.6964      | \n",
       "| Sweden         | 2012           | 4860.2524      | \n",
       "| Sweden         | 2013           | 5003.1323      | \n",
       "| Sweden         | 2014           | 5065.1613      | \n",
       "| Sweden         | 2015           | 5227.8349      | \n",
       "| United Kingdom | 2005           | 2568.4680      | \n",
       "| United Kingdom | 2006           | 2784.4890      | \n",
       "| United Kingdom | 2007           | 2862.4300      | \n",
       "| United Kingdom | 2008           | 2971.1540      | \n",
       "| United Kingdom | 2009           | 3150.2390      | \n",
       "| United Kingdom | 2010           | 3036.1200      | \n",
       "| United Kingdom | 2011           | 3087.3060      | \n",
       "| United Kingdom | 2012           | 3191.9360      | \n",
       "| United Kingdom | 2013           | 3881.0900      | \n",
       "| United Kingdom | 2014           | 3971.3940      | \n",
       "| United Kingdom | 2015           | 4003.0024      | \n",
       "| United States  | 2005           | 6445.7053      | \n",
       "| United States  | 2006           | 6809.4762      | \n",
       "| United States  | 2007           | 7163.1718      | \n",
       "| United States  | 2008           | 7414.0435      | \n",
       "| United States  | 2009           | 7684.7611      | \n",
       "| United States  | 2010           | 7929.3720      | \n",
       "| United States  | 2011           | 8171.0784      | \n",
       "| United States  | 2012           | 8422.9900      | \n",
       "| United States  | 2013           | 8617.4287      | \n",
       "| United States  | 2014           | 9024.2064      | \n",
       "| United States  | 2015           | 9451.3423      | \n",
       "\n",
       "\n"
      ],
      "text/plain": [
       "   Country        Year Cost     \n",
       "1  Luxembourg     2005 5090.3667\n",
       "2  Luxembourg     2006 5512.8935\n",
       "3  Luxembourg     2007 5500.6005\n",
       "4  Luxembourg     2008 5938.8079\n",
       "5  Luxembourg     2009 6355.5453\n",
       "6  Luxembourg     2010 6401.8972\n",
       "7  Luxembourg     2011 6040.5910\n",
       "8  Luxembourg     2012 6423.1651\n",
       "9  Luxembourg     2013 6629.0284\n",
       "10 Luxembourg     2014 6682.2370\n",
       "11 Luxembourg     2015 7764.8684\n",
       "12 Poland         2005  806.3174\n",
       "13 Poland         2006  882.2359\n",
       "14 Poland         2007  992.6475\n",
       "15 Poland         2008 1158.0342\n",
       "16 Poland         2009 1270.2808\n",
       "17 Poland         2010 1340.7184\n",
       "18 Poland         2011 1404.1005\n",
       "19 Poland         2012 1463.7480\n",
       "20 Poland         2013 1580.3710\n",
       "21 Poland         2014 1624.8655\n",
       "22 Poland         2015 1676.6774\n",
       "23 Sweden         2005 2841.8221\n",
       "24 Sweden         2006 3066.2039\n",
       "25 Sweden         2007 3274.8490\n",
       "26 Sweden         2008 3481.5901\n",
       "27 Sweden         2009 3547.1337\n",
       "28 Sweden         2010 3543.5822\n",
       "29 Sweden         2011 4667.6964\n",
       "30 Sweden         2012 4860.2524\n",
       "31 Sweden         2013 5003.1323\n",
       "32 Sweden         2014 5065.1613\n",
       "33 Sweden         2015 5227.8349\n",
       "34 United Kingdom 2005 2568.4680\n",
       "35 United Kingdom 2006 2784.4890\n",
       "36 United Kingdom 2007 2862.4300\n",
       "37 United Kingdom 2008 2971.1540\n",
       "38 United Kingdom 2009 3150.2390\n",
       "39 United Kingdom 2010 3036.1200\n",
       "40 United Kingdom 2011 3087.3060\n",
       "41 United Kingdom 2012 3191.9360\n",
       "42 United Kingdom 2013 3881.0900\n",
       "43 United Kingdom 2014 3971.3940\n",
       "44 United Kingdom 2015 4003.0024\n",
       "45 United States  2005 6445.7053\n",
       "46 United States  2006 6809.4762\n",
       "47 United States  2007 7163.1718\n",
       "48 United States  2008 7414.0435\n",
       "49 United States  2009 7684.7611\n",
       "50 United States  2010 7929.3720\n",
       "51 United States  2011 8171.0784\n",
       "52 United States  2012 8422.9900\n",
       "53 United States  2013 8617.4287\n",
       "54 United States  2014 9024.2064\n",
       "55 United States  2015 9451.3423"
      ]
     },
     "metadata": {},
     "output_type": "display_data"
    }
   ],
   "source": [
    "graph2 <- oecd %>%\n",
    "        filter(Country %in% c(\"Sweden\", \"Poland\", \"United Kingdom\", \"United States\", \"Luxembourg\")) %>%\n",
    "        select(Country, Year, Cost)\n",
    "graph2"
   ]
  },
  {
   "cell_type": "code",
   "execution_count": 8,
   "metadata": {
    "collapsed": false
   },
   "outputs": [
    {
     "data": {},
     "metadata": {},
     "output_type": "display_data"
    },
    {
     "data": {
      "image/png": "[encoded data removed]",
      "text/plain": [
       "plot without title"
      ]
     },
     "metadata": {},
     "output_type": "display_data"
    }
   ],
   "source": [
    "ggplot(graph2, aes(x=Year, y=Cost, col=Country)) + geom_line()"
   ]
  },
  {
   "cell_type": "markdown",
   "metadata": {},
   "source": [
    "## Efficiency scores\n",
    "\n",
    "The last assignment is to compute simple effiency scores. We will use the year 2014 for all countries (i.e. the dataframe \"graph1\").\n",
    "Make a new dateframe called \"eff\" (using graph1). Please use the \"pipe\" to execute to following steps:\n",
    "Select all the variables except the NA's (hint: use na.omit) and create a new column called \"Ratio\" with mutate. Ratio is defined as \"Cost/LE\" (cost per output).\n",
    "Create a new column called \"Score\" with mutate. Score is the ratio per country divided by the lowest ratio in the dataframe.\n",
    "To complete this dataframe order the dataset using \"arrange\" based on score (i.e. lowest Score first).\n",
    "\n",
    "\n",
    "Finally make a bar chart using ggplot. Countries should be on the x-axis and \"Score\" on the y-axis. \n",
    "\n",
    "\n",
    "\n",
    "You can earn extra points if you are able to order the graph based on scores (lowest first, highest last), if you are able to make the x-axis readable, make the bar of the Netherlands red and the other bars blue and/or change the name of the y-axis to \"Efficiency scores according to [your name]\" \n",
    "\n",
    "\n",
    "The figure should like this:\n",
    "\n",
    "![My Figure](eff.png)"
   ]
  },
  {
   "cell_type": "code",
   "execution_count": 9,
   "metadata": {
    "collapsed": false
   },
   "outputs": [
    {
     "data": {
      "text/html": [
       "<table>\n",
       "<thead><tr><th scope=col>Country</th><th scope=col>Year</th><th scope=col>Cost</th><th scope=col>LE</th></tr></thead>\n",
       "<tbody>\n",
       "\t<tr><td>Australia     </td><td>2014          </td><td>4206.852      </td><td>82.4          </td></tr>\n",
       "\t<tr><td>Austria       </td><td>2014          </td><td>4895.999      </td><td>81.6          </td></tr>\n",
       "\t<tr><td>Belgium       </td><td>2014          </td><td>4522.045      </td><td>81.4          </td></tr>\n",
       "\t<tr><td>Chile         </td><td>2014          </td><td>1688.523      </td><td>79.0          </td></tr>\n",
       "\t<tr><td>Czech Republic</td><td>2014          </td><td>2386.338      </td><td>78.9          </td></tr>\n",
       "\t<tr><td>Denmark       </td><td>2014          </td><td>4857.029      </td><td>80.8          </td></tr>\n",
       "</tbody>\n",
       "</table>\n"
      ],
      "text/latex": [
       "\\begin{tabular}{r|llll}\n",
       " Country & Year & Cost & LE\\\\\n",
       "\\hline\n",
       "\t Australia      & 2014           & 4206.852       & 82.4          \\\\\n",
       "\t Austria        & 2014           & 4895.999       & 81.6          \\\\\n",
       "\t Belgium        & 2014           & 4522.045       & 81.4          \\\\\n",
       "\t Chile          & 2014           & 1688.523       & 79.0          \\\\\n",
       "\t Czech Republic & 2014           & 2386.338       & 78.9          \\\\\n",
       "\t Denmark        & 2014           & 4857.029       & 80.8          \\\\\n",
       "\\end{tabular}\n"
      ],
      "text/markdown": [
       "\n",
       "Country | Year | Cost | LE | \n",
       "|---|---|---|---|---|---|\n",
       "| Australia      | 2014           | 4206.852       | 82.4           | \n",
       "| Austria        | 2014           | 4895.999       | 81.6           | \n",
       "| Belgium        | 2014           | 4522.045       | 81.4           | \n",
       "| Chile          | 2014           | 1688.523       | 79.0           | \n",
       "| Czech Republic | 2014           | 2386.338       | 78.9           | \n",
       "| Denmark        | 2014           | 4857.029       | 80.8           | \n",
       "\n",
       "\n"
      ],
      "text/plain": [
       "  Country        Year Cost     LE  \n",
       "1 Australia      2014 4206.852 82.4\n",
       "2 Austria        2014 4895.999 81.6\n",
       "3 Belgium        2014 4522.045 81.4\n",
       "4 Chile          2014 1688.523 79.0\n",
       "5 Czech Republic 2014 2386.338 78.9\n",
       "6 Denmark        2014 4857.029 80.8"
      ]
     },
     "metadata": {},
     "output_type": "display_data"
    }
   ],
   "source": [
    "eff <- graph1 %>%\n",
    "filter(!is.na(LE)) %>%\n",
    "select(Country, Year, Cost, LE)\n",
    "head(eff)"
   ]
  },
  {
   "cell_type": "code",
   "execution_count": 10,
   "metadata": {
    "collapsed": false
   },
   "outputs": [
    {
     "data": {
      "text/html": [
       "<table>\n",
       "<thead><tr><th scope=col>Country</th><th scope=col>Year</th><th scope=col>Cost</th><th scope=col>LE</th><th scope=col>Ratio</th></tr></thead>\n",
       "<tbody>\n",
       "\t<tr><td>Australia     </td><td>2014          </td><td>4206.852      </td><td>82.4          </td><td>51.05402      </td></tr>\n",
       "\t<tr><td>Austria       </td><td>2014          </td><td>4895.999      </td><td>81.6          </td><td>59.99999      </td></tr>\n",
       "\t<tr><td>Belgium       </td><td>2014          </td><td>4522.045      </td><td>81.4          </td><td>55.55338      </td></tr>\n",
       "\t<tr><td>Chile         </td><td>2014          </td><td>1688.523      </td><td>79.0          </td><td>21.37371      </td></tr>\n",
       "\t<tr><td>Czech Republic</td><td>2014          </td><td>2386.338      </td><td>78.9          </td><td>30.24510      </td></tr>\n",
       "\t<tr><td>Denmark       </td><td>2014          </td><td>4857.029      </td><td>80.8          </td><td>60.11174      </td></tr>\n",
       "</tbody>\n",
       "</table>\n"
      ],
      "text/latex": [
       "\\begin{tabular}{r|lllll}\n",
       " Country & Year & Cost & LE & Ratio\\\\\n",
       "\\hline\n",
       "\t Australia      & 2014           & 4206.852       & 82.4           & 51.05402      \\\\\n",
       "\t Austria        & 2014           & 4895.999       & 81.6           & 59.99999      \\\\\n",
       "\t Belgium        & 2014           & 4522.045       & 81.4           & 55.55338      \\\\\n",
       "\t Chile          & 2014           & 1688.523       & 79.0           & 21.37371      \\\\\n",
       "\t Czech Republic & 2014           & 2386.338       & 78.9           & 30.24510      \\\\\n",
       "\t Denmark        & 2014           & 4857.029       & 80.8           & 60.11174      \\\\\n",
       "\\end{tabular}\n"
      ],
      "text/markdown": [
       "\n",
       "Country | Year | Cost | LE | Ratio | \n",
       "|---|---|---|---|---|---|\n",
       "| Australia      | 2014           | 4206.852       | 82.4           | 51.05402       | \n",
       "| Austria        | 2014           | 4895.999       | 81.6           | 59.99999       | \n",
       "| Belgium        | 2014           | 4522.045       | 81.4           | 55.55338       | \n",
       "| Chile          | 2014           | 1688.523       | 79.0           | 21.37371       | \n",
       "| Czech Republic | 2014           | 2386.338       | 78.9           | 30.24510       | \n",
       "| Denmark        | 2014           | 4857.029       | 80.8           | 60.11174       | \n",
       "\n",
       "\n"
      ],
      "text/plain": [
       "  Country        Year Cost     LE   Ratio   \n",
       "1 Australia      2014 4206.852 82.4 51.05402\n",
       "2 Austria        2014 4895.999 81.6 59.99999\n",
       "3 Belgium        2014 4522.045 81.4 55.55338\n",
       "4 Chile          2014 1688.523 79.0 21.37371\n",
       "5 Czech Republic 2014 2386.338 78.9 30.24510\n",
       "6 Denmark        2014 4857.029 80.8 60.11174"
      ]
     },
     "metadata": {},
     "output_type": "display_data"
    }
   ],
   "source": [
    "Ratio <- eff %>%\n",
    "mutate(Ratio = (Cost/LE)) %>%\n",
    "select(Country, Year, Cost, LE, Ratio)\n",
    "head(Ratio)"
   ]
  },
  {
   "cell_type": "code",
   "execution_count": 11,
   "metadata": {
    "collapsed": false
   },
   "outputs": [
    {
     "data": {
      "text/html": [
       "<table>\n",
       "<thead><tr><th scope=col>Country</th><th scope=col>Year</th><th scope=col>Cost</th><th scope=col>LE</th><th scope=col>Ratio</th><th scope=col>Score</th></tr></thead>\n",
       "<tbody>\n",
       "\t<tr><td>United States  </td><td>2014           </td><td>9024.2064      </td><td>78.8           </td><td>114.52039      </td><td>0.1108515      </td></tr>\n",
       "\t<tr><td>Switzerland    </td><td>2014           </td><td>6786.5657      </td><td>83.3           </td><td> 81.47138      </td><td>0.1558186      </td></tr>\n",
       "\t<tr><td>Luxembourg     </td><td>2014           </td><td>6682.2370      </td><td>82.3           </td><td> 81.19365      </td><td>0.1563516      </td></tr>\n",
       "\t<tr><td>Norway         </td><td>2014           </td><td>6080.9980      </td><td>82.2           </td><td> 73.97808      </td><td>0.1716016      </td></tr>\n",
       "\t<tr><td>Netherlands    </td><td>2014           </td><td>5276.6003      </td><td>81.8           </td><td> 64.50612      </td><td>0.1967992      </td></tr>\n",
       "\t<tr><td>Germany        </td><td>2014           </td><td>5119.2146      </td><td>81.2           </td><td> 63.04451      </td><td>0.2013618      </td></tr>\n",
       "\t<tr><td>Sweden         </td><td>2014           </td><td>5065.1613      </td><td>82.3           </td><td> 61.54509      </td><td>0.2062675      </td></tr>\n",
       "\t<tr><td>Ireland        </td><td>2014           </td><td>5001.3220      </td><td>81.4           </td><td> 61.44130      </td><td>0.2066160      </td></tr>\n",
       "\t<tr><td>Denmark        </td><td>2014           </td><td>4857.0285      </td><td>80.8           </td><td> 60.11174      </td><td>0.2111859      </td></tr>\n",
       "\t<tr><td>Austria        </td><td>2014           </td><td>4895.9992      </td><td>81.6           </td><td> 59.99999      </td><td>0.2115793      </td></tr>\n",
       "\t<tr><td>Belgium        </td><td>2014           </td><td>4522.0450      </td><td>81.4           </td><td> 55.55338      </td><td>0.2285145      </td></tr>\n",
       "\t<tr><td>France         </td><td>2014           </td><td>4366.9864      </td><td>82.8           </td><td> 52.74138      </td><td>0.2406982      </td></tr>\n",
       "\t<tr><td>Australia      </td><td>2014           </td><td>4206.8516      </td><td>82.4           </td><td> 51.05402      </td><td>0.2486533      </td></tr>\n",
       "\t<tr><td>Japan          </td><td>2014           </td><td>4152.3727      </td><td>83.7           </td><td> 49.61019      </td><td>0.2558901      </td></tr>\n",
       "\t<tr><td>United Kingdom </td><td>2014           </td><td>3971.3940      </td><td>81.4           </td><td> 48.78862      </td><td>0.2601991      </td></tr>\n",
       "\t<tr><td>Finland        </td><td>2014           </td><td>3870.4000      </td><td>81.3           </td><td> 47.60640      </td><td>0.2666607      </td></tr>\n",
       "\t<tr><td>Iceland        </td><td>2014           </td><td>3896.9251      </td><td>82.9           </td><td> 47.00754      </td><td>0.2700578      </td></tr>\n",
       "\t<tr><td>New Zealand    </td><td>2014           </td><td>3537.2568      </td><td>81.6           </td><td> 43.34874      </td><td>0.2928518      </td></tr>\n",
       "\t<tr><td>Italy          </td><td>2014           </td><td>3206.8286      </td><td>83.2           </td><td> 38.54361      </td><td>0.3293608      </td></tr>\n",
       "\t<tr><td>Spain          </td><td>2014           </td><td>3053.0745      </td><td>83.3           </td><td> 36.65155      </td><td>0.3463633      </td></tr>\n",
       "\t<tr><td>Slovenia       </td><td>2014           </td><td>2598.9066      </td><td>81.2           </td><td> 32.00624      </td><td>0.3966337      </td></tr>\n",
       "\t<tr><td>Portugal       </td><td>2014           </td><td>2583.8438      </td><td>81.2           </td><td> 31.82074      </td><td>0.3989459      </td></tr>\n",
       "\t<tr><td>Israel         </td><td>2014           </td><td>2547.4010      </td><td>82.2           </td><td> 30.99028      </td><td>0.4096366      </td></tr>\n",
       "\t<tr><td>Czech Republic </td><td>2014           </td><td>2386.3385      </td><td>78.9           </td><td> 30.24510      </td><td>0.4197293      </td></tr>\n",
       "\t<tr><td>Korea          </td><td>2014           </td><td>2361.4400      </td><td>82.2           </td><td> 28.72798      </td><td>0.4418951      </td></tr>\n",
       "\t<tr><td>Greece         </td><td>2014           </td><td>2220.1065      </td><td>81.5           </td><td> 27.24057      </td><td>0.4660238      </td></tr>\n",
       "\t<tr><td>Slovak Republic</td><td>2014           </td><td>1970.5230      </td><td>76.9           </td><td> 25.62449      </td><td>0.4954150      </td></tr>\n",
       "\t<tr><td>Hungary        </td><td>2014           </td><td>1796.6034      </td><td>75.9           </td><td> 23.67066      </td><td>0.5363075      </td></tr>\n",
       "\t<tr><td>Estonia        </td><td>2014           </td><td>1724.5100      </td><td>77.2           </td><td> 22.33821      </td><td>0.5682977      </td></tr>\n",
       "\t<tr><td>Chile          </td><td>2014           </td><td>1688.5233      </td><td>79.0           </td><td> 21.37371      </td><td>0.5939424      </td></tr>\n",
       "\t<tr><td>Poland         </td><td>2014           </td><td>1624.8655      </td><td>77.7           </td><td> 20.91204      </td><td>0.6070548      </td></tr>\n",
       "\t<tr><td>Latvia         </td><td>2014           </td><td>1295.0128      </td><td>74.3           </td><td> 17.42951      </td><td>0.7283482      </td></tr>\n",
       "\t<tr><td>Mexico         </td><td>2014           </td><td>1035.3389      </td><td>74.8           </td><td> 13.84143      </td><td>0.9171563      </td></tr>\n",
       "\t<tr><td>Turkey         </td><td>2014           </td><td> 990.1908      </td><td>78.0           </td><td> 12.69475      </td><td>1.0000000      </td></tr>\n",
       "</tbody>\n",
       "</table>\n"
      ],
      "text/latex": [
       "\\begin{tabular}{r|llllll}\n",
       " Country & Year & Cost & LE & Ratio & Score\\\\\n",
       "\\hline\n",
       "\t United States   & 2014            & 9024.2064       & 78.8            & 114.52039       & 0.1108515      \\\\\n",
       "\t Switzerland     & 2014            & 6786.5657       & 83.3            &  81.47138       & 0.1558186      \\\\\n",
       "\t Luxembourg      & 2014            & 6682.2370       & 82.3            &  81.19365       & 0.1563516      \\\\\n",
       "\t Norway          & 2014            & 6080.9980       & 82.2            &  73.97808       & 0.1716016      \\\\\n",
       "\t Netherlands     & 2014            & 5276.6003       & 81.8            &  64.50612       & 0.1967992      \\\\\n",
       "\t Germany         & 2014            & 5119.2146       & 81.2            &  63.04451       & 0.2013618      \\\\\n",
       "\t Sweden          & 2014            & 5065.1613       & 82.3            &  61.54509       & 0.2062675      \\\\\n",
       "\t Ireland         & 2014            & 5001.3220       & 81.4            &  61.44130       & 0.2066160      \\\\\n",
       "\t Denmark         & 2014            & 4857.0285       & 80.8            &  60.11174       & 0.2111859      \\\\\n",
       "\t Austria         & 2014            & 4895.9992       & 81.6            &  59.99999       & 0.2115793      \\\\\n",
       "\t Belgium         & 2014            & 4522.0450       & 81.4            &  55.55338       & 0.2285145      \\\\\n",
       "\t France          & 2014            & 4366.9864       & 82.8            &  52.74138       & 0.2406982      \\\\\n",
       "\t Australia       & 2014            & 4206.8516       & 82.4            &  51.05402       & 0.2486533      \\\\\n",
       "\t Japan           & 2014            & 4152.3727       & 83.7            &  49.61019       & 0.2558901      \\\\\n",
       "\t United Kingdom  & 2014            & 3971.3940       & 81.4            &  48.78862       & 0.2601991      \\\\\n",
       "\t Finland         & 2014            & 3870.4000       & 81.3            &  47.60640       & 0.2666607      \\\\\n",
       "\t Iceland         & 2014            & 3896.9251       & 82.9            &  47.00754       & 0.2700578      \\\\\n",
       "\t New Zealand     & 2014            & 3537.2568       & 81.6            &  43.34874       & 0.2928518      \\\\\n",
       "\t Italy           & 2014            & 3206.8286       & 83.2            &  38.54361       & 0.3293608      \\\\\n",
       "\t Spain           & 2014            & 3053.0745       & 83.3            &  36.65155       & 0.3463633      \\\\\n",
       "\t Slovenia        & 2014            & 2598.9066       & 81.2            &  32.00624       & 0.3966337      \\\\\n",
       "\t Portugal        & 2014            & 2583.8438       & 81.2            &  31.82074       & 0.3989459      \\\\\n",
       "\t Israel          & 2014            & 2547.4010       & 82.2            &  30.99028       & 0.4096366      \\\\\n",
       "\t Czech Republic  & 2014            & 2386.3385       & 78.9            &  30.24510       & 0.4197293      \\\\\n",
       "\t Korea           & 2014            & 2361.4400       & 82.2            &  28.72798       & 0.4418951      \\\\\n",
       "\t Greece          & 2014            & 2220.1065       & 81.5            &  27.24057       & 0.4660238      \\\\\n",
       "\t Slovak Republic & 2014            & 1970.5230       & 76.9            &  25.62449       & 0.4954150      \\\\\n",
       "\t Hungary         & 2014            & 1796.6034       & 75.9            &  23.67066       & 0.5363075      \\\\\n",
       "\t Estonia         & 2014            & 1724.5100       & 77.2            &  22.33821       & 0.5682977      \\\\\n",
       "\t Chile           & 2014            & 1688.5233       & 79.0            &  21.37371       & 0.5939424      \\\\\n",
       "\t Poland          & 2014            & 1624.8655       & 77.7            &  20.91204       & 0.6070548      \\\\\n",
       "\t Latvia          & 2014            & 1295.0128       & 74.3            &  17.42951       & 0.7283482      \\\\\n",
       "\t Mexico          & 2014            & 1035.3389       & 74.8            &  13.84143       & 0.9171563      \\\\\n",
       "\t Turkey          & 2014            &  990.1908       & 78.0            &  12.69475       & 1.0000000      \\\\\n",
       "\\end{tabular}\n"
      ],
      "text/markdown": [
       "\n",
       "Country | Year | Cost | LE | Ratio | Score | \n",
       "|---|---|---|---|---|---|---|---|---|---|---|---|---|---|---|---|---|---|---|---|---|---|---|---|---|---|---|---|---|---|---|---|---|---|\n",
       "| United States   | 2014            | 9024.2064       | 78.8            | 114.52039       | 0.1108515       | \n",
       "| Switzerland     | 2014            | 6786.5657       | 83.3            |  81.47138       | 0.1558186       | \n",
       "| Luxembourg      | 2014            | 6682.2370       | 82.3            |  81.19365       | 0.1563516       | \n",
       "| Norway          | 2014            | 6080.9980       | 82.2            |  73.97808       | 0.1716016       | \n",
       "| Netherlands     | 2014            | 5276.6003       | 81.8            |  64.50612       | 0.1967992       | \n",
       "| Germany         | 2014            | 5119.2146       | 81.2            |  63.04451       | 0.2013618       | \n",
       "| Sweden          | 2014            | 5065.1613       | 82.3            |  61.54509       | 0.2062675       | \n",
       "| Ireland         | 2014            | 5001.3220       | 81.4            |  61.44130       | 0.2066160       | \n",
       "| Denmark         | 2014            | 4857.0285       | 80.8            |  60.11174       | 0.2111859       | \n",
       "| Austria         | 2014            | 4895.9992       | 81.6            |  59.99999       | 0.2115793       | \n",
       "| Belgium         | 2014            | 4522.0450       | 81.4            |  55.55338       | 0.2285145       | \n",
       "| France          | 2014            | 4366.9864       | 82.8            |  52.74138       | 0.2406982       | \n",
       "| Australia       | 2014            | 4206.8516       | 82.4            |  51.05402       | 0.2486533       | \n",
       "| Japan           | 2014            | 4152.3727       | 83.7            |  49.61019       | 0.2558901       | \n",
       "| United Kingdom  | 2014            | 3971.3940       | 81.4            |  48.78862       | 0.2601991       | \n",
       "| Finland         | 2014            | 3870.4000       | 81.3            |  47.60640       | 0.2666607       | \n",
       "| Iceland         | 2014            | 3896.9251       | 82.9            |  47.00754       | 0.2700578       | \n",
       "| New Zealand     | 2014            | 3537.2568       | 81.6            |  43.34874       | 0.2928518       | \n",
       "| Italy           | 2014            | 3206.8286       | 83.2            |  38.54361       | 0.3293608       | \n",
       "| Spain           | 2014            | 3053.0745       | 83.3            |  36.65155       | 0.3463633       | \n",
       "| Slovenia        | 2014            | 2598.9066       | 81.2            |  32.00624       | 0.3966337       | \n",
       "| Portugal        | 2014            | 2583.8438       | 81.2            |  31.82074       | 0.3989459       | \n",
       "| Israel          | 2014            | 2547.4010       | 82.2            |  30.99028       | 0.4096366       | \n",
       "| Czech Republic  | 2014            | 2386.3385       | 78.9            |  30.24510       | 0.4197293       | \n",
       "| Korea           | 2014            | 2361.4400       | 82.2            |  28.72798       | 0.4418951       | \n",
       "| Greece          | 2014            | 2220.1065       | 81.5            |  27.24057       | 0.4660238       | \n",
       "| Slovak Republic | 2014            | 1970.5230       | 76.9            |  25.62449       | 0.4954150       | \n",
       "| Hungary         | 2014            | 1796.6034       | 75.9            |  23.67066       | 0.5363075       | \n",
       "| Estonia         | 2014            | 1724.5100       | 77.2            |  22.33821       | 0.5682977       | \n",
       "| Chile           | 2014            | 1688.5233       | 79.0            |  21.37371       | 0.5939424       | \n",
       "| Poland          | 2014            | 1624.8655       | 77.7            |  20.91204       | 0.6070548       | \n",
       "| Latvia          | 2014            | 1295.0128       | 74.3            |  17.42951       | 0.7283482       | \n",
       "| Mexico          | 2014            | 1035.3389       | 74.8            |  13.84143       | 0.9171563       | \n",
       "| Turkey          | 2014            |  990.1908       | 78.0            |  12.69475       | 1.0000000       | \n",
       "\n",
       "\n"
      ],
      "text/plain": [
       "   Country         Year Cost      LE   Ratio     Score    \n",
       "1  United States   2014 9024.2064 78.8 114.52039 0.1108515\n",
       "2  Switzerland     2014 6786.5657 83.3  81.47138 0.1558186\n",
       "3  Luxembourg      2014 6682.2370 82.3  81.19365 0.1563516\n",
       "4  Norway          2014 6080.9980 82.2  73.97808 0.1716016\n",
       "5  Netherlands     2014 5276.6003 81.8  64.50612 0.1967992\n",
       "6  Germany         2014 5119.2146 81.2  63.04451 0.2013618\n",
       "7  Sweden          2014 5065.1613 82.3  61.54509 0.2062675\n",
       "8  Ireland         2014 5001.3220 81.4  61.44130 0.2066160\n",
       "9  Denmark         2014 4857.0285 80.8  60.11174 0.2111859\n",
       "10 Austria         2014 4895.9992 81.6  59.99999 0.2115793\n",
       "11 Belgium         2014 4522.0450 81.4  55.55338 0.2285145\n",
       "12 France          2014 4366.9864 82.8  52.74138 0.2406982\n",
       "13 Australia       2014 4206.8516 82.4  51.05402 0.2486533\n",
       "14 Japan           2014 4152.3727 83.7  49.61019 0.2558901\n",
       "15 United Kingdom  2014 3971.3940 81.4  48.78862 0.2601991\n",
       "16 Finland         2014 3870.4000 81.3  47.60640 0.2666607\n",
       "17 Iceland         2014 3896.9251 82.9  47.00754 0.2700578\n",
       "18 New Zealand     2014 3537.2568 81.6  43.34874 0.2928518\n",
       "19 Italy           2014 3206.8286 83.2  38.54361 0.3293608\n",
       "20 Spain           2014 3053.0745 83.3  36.65155 0.3463633\n",
       "21 Slovenia        2014 2598.9066 81.2  32.00624 0.3966337\n",
       "22 Portugal        2014 2583.8438 81.2  31.82074 0.3989459\n",
       "23 Israel          2014 2547.4010 82.2  30.99028 0.4096366\n",
       "24 Czech Republic  2014 2386.3385 78.9  30.24510 0.4197293\n",
       "25 Korea           2014 2361.4400 82.2  28.72798 0.4418951\n",
       "26 Greece          2014 2220.1065 81.5  27.24057 0.4660238\n",
       "27 Slovak Republic 2014 1970.5230 76.9  25.62449 0.4954150\n",
       "28 Hungary         2014 1796.6034 75.9  23.67066 0.5363075\n",
       "29 Estonia         2014 1724.5100 77.2  22.33821 0.5682977\n",
       "30 Chile           2014 1688.5233 79.0  21.37371 0.5939424\n",
       "31 Poland          2014 1624.8655 77.7  20.91204 0.6070548\n",
       "32 Latvia          2014 1295.0128 74.3  17.42951 0.7283482\n",
       "33 Mexico          2014 1035.3389 74.8  13.84143 0.9171563\n",
       "34 Turkey          2014  990.1908 78.0  12.69475 1.0000000"
      ]
     },
     "metadata": {},
     "output_type": "display_data"
    }
   ],
   "source": [
    "Score <- Ratio %>%\n",
    "mutate(Score = min(Ratio)/Ratio) %>%\n",
    "arrange(Score) \n",
    "Score"
   ]
  },
  {
   "cell_type": "code",
   "execution_count": 12,
   "metadata": {
    "collapsed": false
   },
   "outputs": [
    {
     "data": {},
     "metadata": {},
     "output_type": "display_data"
    },
    {
     "data": {
      "image/png": "[encoded data removed]",
      "text/plain": [
       "plot without title"
      ]
     },
     "metadata": {},
     "output_type": "display_data"
    }
   ],
   "source": [
    "ggplot(Score, aes(x = reorder(Country,Score), y = Score, fill= Country)) +\n",
    "        geom_bar(stat = \"identity\") +\n",
    "        theme(axis.text.x = element_text(angle = 60, hjust = 1))+\n",
    "        scale_fill_manual(values = c(rep(\"blue\",21),rep(\"red\",1),rep(\"blue\",12))) +\n",
    "        guides(fill=FALSE) +\n",
    "        xlab(\"Country\") +\n",
    "        ylab(\"Efficiency scores according to xuru zhang \")"
   ]
  },
  {
   "cell_type": "code",
   "execution_count": null,
   "metadata": {
    "collapsed": true
   },
   "outputs": [],
   "source": []
  }
 ],
 "metadata": {
  "anaconda-cloud": {},
  "kernelspec": {
   "display_name": "R",
   "language": "R",
   "name": "ir"
  },
  "language_info": {
   "codemirror_mode": "r",
   "file_extension": ".r",
   "mimetype": "text/x-r-source",
   "name": "R",
   "pygments_lexer": "r",
   "version": "3.3.2"
  }
 },
 "nbformat": 4,
 "nbformat_minor": 1
}
